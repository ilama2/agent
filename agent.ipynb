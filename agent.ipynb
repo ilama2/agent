{
 "cells": [
  {
   "cell_type": "code",
   "execution_count": null,
   "id": "fadfe0d5",
   "metadata": {},
   "outputs": [],
   "source": [
    "from langchain.agents import AgentType, Tool, initialize_agent\n",
    "from langchain_openai import OpenAI\n",
    "from langchain.chains import RetrievalQA\n",
    "from langchain_openai import ChatOpenAI\n",
    "from dotenv import load_dotenv\n",
    "from langchain_core.prompts import ChatPromptTemplate\n",
    "from langchain_core.tools import Tool\n",
    "import os\n",
    "from langchain_core.runnables.history import RunnableWithMessageHistory\n",
    "from langchain_community.tools.file_management.write import WriteFileTool\n",
    "from langchain.vectorstores import FAISS\n",
    "import requests\n",
    "from langchain_core.chat_history import InMemoryChatMessageHistory\n",
    "from langchain_core.messages import HumanMessage, AIMessage\n",
    "from langgraph.prebuilt import create_react_agent"
   ]
  },
  {
   "cell_type": "code",
   "execution_count": 4,
   "id": "1f4a9e90",
   "metadata": {},
   "outputs": [],
   "source": [
    "import os\n",
    "from dotenv import load_dotenv, find_dotenv\n",
    "_ = load_dotenv(find_dotenv())\n",
    "\n",
    "OPENAI_API_KEY  = os.getenv('OPENAI_API_KEY')"
   ]
  },
  {
   "cell_type": "code",
   "execution_count": 5,
   "id": "9dc12a7b",
   "metadata": {},
   "outputs": [],
   "source": [
    "import fitz  # PyMuPDF\n",
    "\n",
    "def extract_text_from_pdf(pdf_path):\n",
    "    doc = fitz.open(pdf_path)\n",
    "    full_text = \"\"\n",
    "    for page in doc:\n",
    "        full_text += page.get_text()\n",
    "    return full_text"
   ]
  },
  {
   "cell_type": "code",
   "execution_count": 6,
   "id": "d326f683",
   "metadata": {},
   "outputs": [],
   "source": [
    "data_path = \"/Users/lama/Desktop/agent /80 Excel formulas .pdf\""
   ]
  },
  {
   "cell_type": "code",
   "execution_count": null,
   "id": "9ad6622b",
   "metadata": {},
   "outputs": [],
   "source": [
    "from langchain_core.documents import Document\n",
    "\n",
    "# Extract text from a PDF and store it as a Document\n",
    "text = extract_text_from_pdf(data_path)\n",
    "documents = [Document(page_content=text)]"
   ]
  },
  {
   "cell_type": "code",
   "execution_count": 8,
   "id": "05d325d4",
   "metadata": {},
   "outputs": [],
   "source": [
    "from langchain_text_splitters import RecursiveCharacterTextSplitter\n",
    "\n",
    "# Use a text splitter to break the document into smaller pieces\n",
    "text_splitter = RecursiveCharacterTextSplitter(chunk_size=1000)\n",
    "docs = text_splitter.split_documents(documents)"
   ]
  },
  {
   "cell_type": "code",
   "execution_count": 9,
   "id": "8bd4d38e",
   "metadata": {},
   "outputs": [],
   "source": [
    "from langchain_openai import OpenAIEmbeddings\n",
    "from langchain_community.vectorstores import FAISS\n",
    "\n",
    "# Create embeddings using OpenAI\n",
    "embeddings = OpenAIEmbeddings()\n",
    "\n",
    "# Store the embedded chunks in a FAISS vector database\n",
    "db = FAISS.from_documents(docs , embeddings)"
   ]
  },
  {
   "cell_type": "code",
   "execution_count": null,
   "id": "d679a2ea",
   "metadata": {},
   "outputs": [],
   "source": [
    "# Create a retriever from the FAISS vector store\n",
    "faiss_retriever = db.as_retriever()"
   ]
  },
  {
   "cell_type": "code",
   "execution_count": null,
   "id": "786032f8",
   "metadata": {},
   "outputs": [],
   "source": [
    "# Initialize GPT-4o-mini \n",
    "llm = ChatOpenAI(model=\"gpt-4o-mini\", temperature=0.5)"
   ]
  },
  {
   "cell_type": "code",
   "execution_count": null,
   "id": "c33280d9",
   "metadata": {},
   "outputs": [],
   "source": [
    "# Build a QA system using the LLM and FAISS retriever\n",
    "ExcelFormulas= RetrievalQA.from_chain_type(\n",
    "    llm=llm, chain_type=\"stuff\", retriever=faiss_retriever\n",
    ")"
   ]
  },
  {
   "cell_type": "code",
   "execution_count": null,
   "id": "a0b03abe",
   "metadata": {},
   "outputs": [],
   "source": [
    "def get_weather(city=None):\n",
    "    # Default to a city if no city is provided\n",
    "    city = city or \"Riyadh\"  \n",
    "    base_url = f\"https://wttr.in/{city}?format=%C+%t+%w\"  # Add the city to the URL\n",
    "    response = requests.get(base_url)\n",
    "    \n",
    "    if response.status_code == 200:\n",
    "        return response.text\n",
    "    else:\n",
    "        return f\"Could not retrieve weather data for {city}.\"\n"
   ]
  },
  {
   "cell_type": "code",
   "execution_count": null,
   "id": "d9899c01",
   "metadata": {},
   "outputs": [],
   "source": [
    "# Store chat histories by session ID\n",
    "_session_histories = {}\n",
    "\n",
    "# Retrieve or create chat history for a given session\n",
    "def get_session_history(session_id: str = \"default\") -> InMemoryChatMessageHistory:\n",
    "    if session_id not in _session_histories:\n",
    "        _session_histories[session_id] = InMemoryChatMessageHistory()\n",
    "    return _session_histories[session_id]"
   ]
  },
  {
   "cell_type": "code",
   "execution_count": null,
   "id": "e9a63b95",
   "metadata": {},
   "outputs": [],
   "source": [
    "# Define tools the agent can use: Excel QA and Weather info\n",
    "tools = [\n",
    "    Tool(\n",
    "        name=\"ExcelFormulas\",\n",
    "        func=ExcelFormulas.run,\n",
    "        description=\"useful for when you need to answer questions about Excel formulas, functions, and data manipulation. Input should be a fully formed question.\",\n",
    "    ),\n",
    "    Tool(\n",
    "        name=\"Weather\",\n",
    "        func=get_weather,\n",
    "        description=\"Fetches simple weather information without requiring location or API key.\"\n",
    "    )\n",
    "]"
   ]
  },
  {
   "cell_type": "code",
   "execution_count": null,
   "id": "dad04917",
   "metadata": {},
   "outputs": [],
   "source": [
    "# Initialize the agent with tools and zero-shot reasoning\n",
    "agent = initialize_agent(\n",
    "    tools, \n",
    "    llm, \n",
    "    agent_type=AgentType.ZERO_SHOT_REACT_DESCRIPTION,  \n",
    "    verbose=True  \n",
    ")"
   ]
  },
  {
   "cell_type": "code",
   "execution_count": null,
   "id": "142573cf",
   "metadata": {},
   "outputs": [],
   "source": [
    "# Create an agent with a custom prompt and toolset\n",
    "def create_agent_with_history(model, tools):\n",
    "    prompt = \"You are a helpful assistant.\"\n",
    "    return create_react_agent(model, tools, prompt)\n",
    "\n",
    "\n",
    "# Interact with the agent and maintain chat history\n",
    "def ask_agent(agent, question, session_id=\"default\"):\n",
    "    history = get_session_history(session_id)\n",
    "    history.add_message(HumanMessage(content=question))\n",
    "\n",
    "    response = agent.invoke({\"messages\": history.messages})\n",
    "\n",
    "    # Look for the last non-empty AI message in the response\n",
    "    if isinstance(response, dict) and \"messages\" in response:\n",
    "        last_ai_message = None\n",
    "        for msg in response[\"messages\"]:\n",
    "            if isinstance(msg, AIMessage) and msg.content.strip():\n",
    "                last_ai_message = msg\n",
    "\n",
    "        if last_ai_message:\n",
    "            history.add_message(last_ai_message)\n",
    "\n",
    "    return response, history\n",
    "\n",
    "# Ask the agent and print the conversation\n",
    "def ask_agent_and_print(agent, question, session_id=\"default\"):\n",
    "    _, history = ask_agent(agent, question, session_id)\n",
    "\n",
    "    print(\"🗨️ Conversation:\")\n",
    "    for msg in history.messages:\n",
    "        if isinstance(msg, HumanMessage):\n",
    "            print(\"👤 Human:\\n\" + msg.content + \"\\n\")\n",
    "        elif isinstance(msg, AIMessage):\n",
    "            print(\"🤖 AI:\\n\" + msg.content + \"\\n\")\n"
   ]
  },
  {
   "cell_type": "code",
   "execution_count": 191,
   "id": "a992a99e",
   "metadata": {},
   "outputs": [
    {
     "name": "stdout",
     "output_type": "stream",
     "text": [
      "Chat history for session 'default' has been cleared.\n"
     ]
    }
   ],
   "source": [
    "# Clear chat history\n",
    "def clear_chat_history(session_id=\"default\"):\n",
    "    # Reset the chat history for the given session\n",
    "    _session_histories[session_id] = InMemoryChatMessageHistory()\n",
    "    print(f\"Chat history for session '{session_id}' has been cleared.\")\n",
    "    \n",
    "clear_chat_history(\"default\")\n"
   ]
  },
  {
   "cell_type": "code",
   "execution_count": null,
   "id": "ffc151b1",
   "metadata": {},
   "outputs": [],
   "source": [
    "# Create an agent with the given model, tools\n",
    "agent = create_react_agent(llm, tools, prompt=\"...\")"
   ]
  },
  {
   "cell_type": "code",
   "execution_count": 192,
   "id": "c61dd465",
   "metadata": {},
   "outputs": [
    {
     "name": "stdout",
     "output_type": "stream",
     "text": [
      "🗨️ Conversation:\n",
      "👤 Human:\n",
      "How is the weather today in Riyadh?\n",
      "\n",
      "🤖 AI:\n",
      "The weather in Riyadh today is approximately 23°C with patchy rain nearby and a wind speed of 17 km/h.\n",
      "\n"
     ]
    }
   ],
   "source": [
    "ask_agent_and_print(agent, \"How is the weather today in Riyadh?\")"
   ]
  },
  {
   "cell_type": "code",
   "execution_count": 193,
   "id": "ebe18f54",
   "metadata": {},
   "outputs": [
    {
     "name": "stdout",
     "output_type": "stream",
     "text": [
      "🗨️ Conversation:\n",
      "👤 Human:\n",
      "How is the weather today in Riyadh?\n",
      "\n",
      "🤖 AI:\n",
      "The weather in Riyadh today is approximately 23°C with patchy rain nearby and a wind speed of 17 km/h.\n",
      "\n",
      "👤 Human:\n",
      "How do I sum a column in Excel?\n",
      "\n",
      "🤖 AI:\n",
      "To sum a column in Excel, you can use the SUM function. For example, if you want to sum the values in column A from row 1 to row 5, you would use the following formula:\n",
      "\n",
      "```excel\n",
      "=SUM(A1:A5)\n",
      "```\n",
      "\n"
     ]
    }
   ],
   "source": [
    "ask_agent_and_print(agent, \"How do I sum a column in Excel?\")\n"
   ]
  },
  {
   "cell_type": "code",
   "execution_count": 194,
   "id": "108f518f",
   "metadata": {},
   "outputs": [
    {
     "name": "stdout",
     "output_type": "stream",
     "text": [
      "🗨️ Conversation:\n",
      "👤 Human:\n",
      "How is the weather today in Riyadh?\n",
      "\n",
      "🤖 AI:\n",
      "The weather in Riyadh today is approximately 23°C with patchy rain nearby and a wind speed of 17 km/h.\n",
      "\n",
      "👤 Human:\n",
      "How do I sum a column in Excel?\n",
      "\n",
      "🤖 AI:\n",
      "To sum a column in Excel, you can use the SUM function. For example, if you want to sum the values in column A from row 1 to row 5, you would use the following formula:\n",
      "\n",
      "```excel\n",
      "=SUM(A1:A5)\n",
      "```\n",
      "\n",
      "👤 Human:\n",
      "How can I calculate the average of a range in Excel\n",
      "\n",
      "🤖 AI:\n",
      "You can calculate the average of a range in Excel using the AVERAGE function. The syntax is:\n",
      "\n",
      "```excel\n",
      "=AVERAGE(A1:A5)\n",
      "```\n",
      "\n",
      "Just replace `A1:A5` with the actual range of cells you want to average.\n",
      "\n"
     ]
    }
   ],
   "source": [
    "ask_agent_and_print(agent, \"How can I calculate the average of a range in Excel\")"
   ]
  },
  {
   "cell_type": "code",
   "execution_count": 195,
   "id": "8d31eb24",
   "metadata": {},
   "outputs": [
    {
     "name": "stdout",
     "output_type": "stream",
     "text": [
      "🗨️ Conversation:\n",
      "👤 Human:\n",
      "How is the weather today in Riyadh?\n",
      "\n",
      "🤖 AI:\n",
      "The weather in Riyadh today is approximately 23°C with patchy rain nearby and a wind speed of 17 km/h.\n",
      "\n",
      "👤 Human:\n",
      "How do I sum a column in Excel?\n",
      "\n",
      "🤖 AI:\n",
      "To sum a column in Excel, you can use the SUM function. For example, if you want to sum the values in column A from row 1 to row 5, you would use the following formula:\n",
      "\n",
      "```excel\n",
      "=SUM(A1:A5)\n",
      "```\n",
      "\n",
      "👤 Human:\n",
      "How can I calculate the average of a range in Excel\n",
      "\n",
      "🤖 AI:\n",
      "You can calculate the average of a range in Excel using the AVERAGE function. The syntax is:\n",
      "\n",
      "```excel\n",
      "=AVERAGE(A1:A5)\n",
      "```\n",
      "\n",
      "Just replace `A1:A5` with the actual range of cells you want to average.\n",
      "\n",
      "👤 Human:\n",
      "How can you count the number of non-empty cells in a column?\n",
      "\n",
      "🤖 AI:\n",
      "You can count the number of non-empty cells in a column using the COUNTA function in Excel. The syntax is:\n",
      "\n",
      "```excel\n",
      "=COUNTA(A1:A5)\n",
      "```\n",
      "\n",
      "Replace `A1:A5` with the actual range of cells you want to count. This function will count all non-empty cells in the specified range.\n",
      "\n"
     ]
    }
   ],
   "source": [
    "ask_agent_and_print(agent, \"How can you count the number of non-empty cells in a column?\")\n"
   ]
  },
  {
   "cell_type": "code",
   "execution_count": 196,
   "id": "fa0fda98",
   "metadata": {},
   "outputs": [
    {
     "name": "stdout",
     "output_type": "stream",
     "text": [
      "🗨️ Conversation:\n",
      "👤 Human:\n",
      "How is the weather today in Riyadh?\n",
      "\n",
      "🤖 AI:\n",
      "The weather in Riyadh today is approximately 23°C with patchy rain nearby and a wind speed of 17 km/h.\n",
      "\n",
      "👤 Human:\n",
      "How do I sum a column in Excel?\n",
      "\n",
      "🤖 AI:\n",
      "To sum a column in Excel, you can use the SUM function. For example, if you want to sum the values in column A from row 1 to row 5, you would use the following formula:\n",
      "\n",
      "```excel\n",
      "=SUM(A1:A5)\n",
      "```\n",
      "\n",
      "👤 Human:\n",
      "How can I calculate the average of a range in Excel\n",
      "\n",
      "🤖 AI:\n",
      "You can calculate the average of a range in Excel using the AVERAGE function. The syntax is:\n",
      "\n",
      "```excel\n",
      "=AVERAGE(A1:A5)\n",
      "```\n",
      "\n",
      "Just replace `A1:A5` with the actual range of cells you want to average.\n",
      "\n",
      "👤 Human:\n",
      "How can you count the number of non-empty cells in a column?\n",
      "\n",
      "🤖 AI:\n",
      "You can count the number of non-empty cells in a column using the COUNTA function in Excel. The syntax is:\n",
      "\n",
      "```excel\n",
      "=COUNTA(A1:A5)\n",
      "```\n",
      "\n",
      "Replace `A1:A5` with the actual range of cells you want to count. This function will count all non-empty cells in the specified range.\n",
      "\n",
      "👤 Human:\n",
      "ow to average a column?\n",
      "\n",
      "🤖 AI:\n",
      "To average a column in Excel, you can use the AVERAGE function. For example, if you want to average the values in column A from row 1 to row 5, you would use the following formula:\n",
      "\n",
      "```excel\n",
      "=AVERAGE(A1:A5)\n",
      "```\n",
      "\n",
      "Just replace `A1:A5` with the actual range of cells you want to average.\n",
      "\n"
     ]
    }
   ],
   "source": [
    "ask_agent_and_print(agent, \"ow to average a column?\")\n"
   ]
  },
  {
   "cell_type": "code",
   "execution_count": 197,
   "id": "bdce5952",
   "metadata": {},
   "outputs": [
    {
     "name": "stdout",
     "output_type": "stream",
     "text": [
      "🗨️ Conversation:\n",
      "👤 Human:\n",
      "How is the weather today in Riyadh?\n",
      "\n",
      "🤖 AI:\n",
      "The weather in Riyadh today is approximately 23°C with patchy rain nearby and a wind speed of 17 km/h.\n",
      "\n",
      "👤 Human:\n",
      "How do I sum a column in Excel?\n",
      "\n",
      "🤖 AI:\n",
      "To sum a column in Excel, you can use the SUM function. For example, if you want to sum the values in column A from row 1 to row 5, you would use the following formula:\n",
      "\n",
      "```excel\n",
      "=SUM(A1:A5)\n",
      "```\n",
      "\n",
      "👤 Human:\n",
      "How can I calculate the average of a range in Excel\n",
      "\n",
      "🤖 AI:\n",
      "You can calculate the average of a range in Excel using the AVERAGE function. The syntax is:\n",
      "\n",
      "```excel\n",
      "=AVERAGE(A1:A5)\n",
      "```\n",
      "\n",
      "Just replace `A1:A5` with the actual range of cells you want to average.\n",
      "\n",
      "👤 Human:\n",
      "How can you count the number of non-empty cells in a column?\n",
      "\n",
      "🤖 AI:\n",
      "You can count the number of non-empty cells in a column using the COUNTA function in Excel. The syntax is:\n",
      "\n",
      "```excel\n",
      "=COUNTA(A1:A5)\n",
      "```\n",
      "\n",
      "Replace `A1:A5` with the actual range of cells you want to count. This function will count all non-empty cells in the specified range.\n",
      "\n",
      "👤 Human:\n",
      "ow to average a column?\n",
      "\n",
      "🤖 AI:\n",
      "To average a column in Excel, you can use the AVERAGE function. For example, if you want to average the values in column A from row 1 to row 5, you would use the following formula:\n",
      "\n",
      "```excel\n",
      "=AVERAGE(A1:A5)\n",
      "```\n",
      "\n",
      "Just replace `A1:A5` with the actual range of cells you want to average.\n",
      "\n",
      "👤 Human:\n",
      "How is the weather today in London\n",
      "\n",
      "🤖 AI:\n",
      "The weather in London today is approximately 15°C with rain showers and a wind speed of 14 km/h.\n",
      "\n"
     ]
    }
   ],
   "source": [
    "ask_agent_and_print(agent, \"How is the weather today in London\")\n"
   ]
  }
 ],
 "metadata": {
  "kernelspec": {
   "display_name": ".venv",
   "language": "python",
   "name": "python3"
  },
  "language_info": {
   "codemirror_mode": {
    "name": "ipython",
    "version": 3
   },
   "file_extension": ".py",
   "mimetype": "text/x-python",
   "name": "python",
   "nbconvert_exporter": "python",
   "pygments_lexer": "ipython3",
   "version": "3.10.17"
  }
 },
 "nbformat": 4,
 "nbformat_minor": 5
}
